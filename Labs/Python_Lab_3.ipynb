{
 "cells": [
  {
   "cell_type": "markdown",
   "metadata": {},
   "source": [
    "# Python_Lab_3\n"
   ]
  },
  {
   "cell_type": "markdown",
   "metadata": {},
   "source": [
    "### Task 1\n",
    "- Write a function named **'create_student_records'** that takes a list of tuples. Each tuple contains a student's name and their scores in three subjects. The function should return a list of dictionaries, where each dictionary represents a student with keys: name, subject1, subject2, subject3. Use list comprehension to create the list of dictionaries."
   ]
  },
  {
   "cell_type": "code",
   "execution_count": 16,
   "metadata": {},
   "outputs": [
    {
     "name": "stdout",
     "output_type": "stream",
     "text": [
      "Ali. 85 -- 90 -- 78\n",
      "\n",
      "Sara. 92 -- 88 -- 95\n",
      "\n",
      "Omar. 76 -- 80 -- 85\n",
      "\n"
     ]
    },
    {
     "data": {
      "text/plain": [
       "[{'name': 'Ali', 'Math': 85, 'English': 90, 'Science': 78},\n",
       " {'name': 'Sara', 'Math': 92, 'English': 88, 'Science': 95},\n",
       " {'name': 'Omar', 'Math': 76, 'English': 80, 'Science': 85}]"
      ]
     },
     "execution_count": 16,
     "metadata": {},
     "output_type": "execute_result"
    }
   ],
   "source": [
    "students = [\n",
    "    (\"Ali\", {\"subject1\": 85, \"subject2\": 90, \"subject3\": 78}),\n",
    "    (\"Sara\", {\"subject1\": 92, \"subject2\": 88, \"subject3\": 95}),\n",
    "    (\"Omar\", {\"subject1\": 76, \"subject2\": 80, \"subject3\": 85})\n",
    "]\n",
    "\n",
    "## Normal\n",
    "def create_student_records(students):\n",
    "    for name, subjects in students:\n",
    "        print(f\"{name}. {subjects['subject1']} -- {subjects['subject2']} -- {subjects['subject3']}\\n\")\n",
    "create_student_records(students)\n",
    "\n",
    "## List comprehension\n",
    "def create_student_records1(students):\n",
    "    return [\n",
    "        {\"name\": name, \"Math\": subjects[\"subject1\"], \"English\": subjects[\"subject2\"], \"Science\": subjects[\"subject3\"]}\n",
    "        for name, subjects in students\n",
    "    ]\n",
    "\n",
    "create_student_records1(students)"
   ]
  },
  {
   "cell_type": "markdown",
   "metadata": {},
   "source": [
    "### Task 2\n",
    "- Write a function named **'filter_and_sort_students'** that takes the list of dictionaries from Question 1 and returns a sorted list of student names who have an average score of 80 or more across all subjects. Sort the names in alphabetical order."
   ]
  },
  {
   "cell_type": "code",
   "execution_count": 17,
   "metadata": {},
   "outputs": [
    {
     "data": {
      "text/plain": [
       "['Ali', 'Omar', 'Sara']"
      ]
     },
     "execution_count": 17,
     "metadata": {},
     "output_type": "execute_result"
    }
   ],
   "source": [
    "def filter_and_sort_students(students):\n",
    "    return sorted([\n",
    "        name for name, subjects in students  \n",
    "        if (sum(subjects.values()) / len(subjects)) >= 80\n",
    "    ])\n",
    "filter_and_sort_students(students)\n",
    "    "
   ]
  },
  {
   "cell_type": "markdown",
   "metadata": {},
   "source": [
    "### Task 3\n",
    "- Write a function named **'get_product_info'** that prompts the user to enter information about a product. The function should ask for the product name, product price, and product quantity. If the user enters an invalid input (e.g., a non-numeric value for the price or quantity), the function should handle the error and prompt the user to enter the value again. Return a dictionary containing the product information."
   ]
  },
  {
   "cell_type": "code",
   "execution_count": 18,
   "metadata": {},
   "outputs": [
    {
     "name": "stdout",
     "output_type": "stream",
     "text": [
      "Ops: Invalid Input Please Enter Numeric Value\n"
     ]
    }
   ],
   "source": [
    "productInfo = {}\n",
    "def get_product_info(productInfo):\n",
    "    try:\n",
    "        productName = input(\"Kindly, Provided a Product Name:\")\n",
    "        productPrice = float(input(\"Kindly, Provided a Product Price:\"))\n",
    "        productQuantity = int(input(\"Kindly, Provided a Product Quantity:\"))\n",
    "        productInfo[productName] = (productPrice, productQuantity)\n",
    "        for idx, (name, (price, quantity)) in enumerate(productInfo.items(), 1):\n",
    "            print(f\"{idx}. {name} - {price} - {quantity}\")\n",
    "            \n",
    "    except ValueError:\n",
    "        print(\"Ops: Invalid Input Please Enter Numeric Value\")\n",
    "        \n",
    "get_product_info(productInfo)"
   ]
  },
  {
   "cell_type": "markdown",
   "metadata": {},
   "source": [
    "### Task 4\n",
    "- Write a function named **'get_even_numbers'** that takes a list of integers and returns a list of even numbers using list comprehension."
   ]
  },
  {
   "cell_type": "code",
   "execution_count": 19,
   "metadata": {},
   "outputs": [
    {
     "data": {
      "text/plain": [
       "[2, 4, 6, 8, 10]"
      ]
     },
     "execution_count": 19,
     "metadata": {},
     "output_type": "execute_result"
    }
   ],
   "source": [
    "intList = [1,2,3,4,5,6,7,8,9,10]\n",
    "def get_even_numbers(intList):\n",
    "    return [num for num in intList if num % 2 == 0]\n",
    "\n",
    "get_even_numbers(intList)\n"
   ]
  },
  {
   "cell_type": "markdown",
   "metadata": {},
   "source": [
    "### Task 5\n",
    "- Write a function named **'pair_elements'** that takes two lists of equal length as parameters and returns a list of tuples, where each tuple contains corresponding elements from the two lists. Use the zip function to achieve this."
   ]
  },
  {
   "cell_type": "markdown",
   "metadata": {},
   "source": []
  },
  {
   "cell_type": "code",
   "execution_count": 20,
   "metadata": {},
   "outputs": [
    {
     "data": {
      "text/plain": [
       "[(1, 0),\n",
       " (2, 0),\n",
       " (3, 0),\n",
       " (4, 0),\n",
       " (5, 0),\n",
       " (6, 0),\n",
       " (7, 0),\n",
       " (8, 0),\n",
       " (9, 0),\n",
       " (10, 0)]"
      ]
     },
     "execution_count": 20,
     "metadata": {},
     "output_type": "execute_result"
    }
   ],
   "source": [
    "tenList = [1,2,3,4,5,6,7,8,9,10]\n",
    "zeroList = [0,0,0,0,0,0,0,0,0,0]\n",
    "\n",
    "def pair_element(tenList, zeroList):\n",
    "    return list(zip(tenList, zeroList))\n",
    "\n",
    "pair_element(tenList, zeroList)"
   ]
  },
  {
   "cell_type": "markdown",
   "metadata": {},
   "source": [
    "### Task 6\n",
    "- Write a function named **'square_dict_lambda'** that takes a list of integers and returns a dictionary where the keys are the integers and the values are their squares. Use a lambda function within a dictionary comprehension to achieve this."
   ]
  },
  {
   "cell_type": "code",
   "execution_count": 21,
   "metadata": {},
   "outputs": [
    {
     "data": {
      "text/plain": [
       "{6: 36, 7: 49, 8: 64, 9: 81, 10: 100}"
      ]
     },
     "execution_count": 21,
     "metadata": {},
     "output_type": "execute_result"
    }
   ],
   "source": [
    "tenList = [1,2,3,4,5,6,7,8,9,10]\n",
    "def square_dict_lambda(tenList):\n",
    "    squaredNumbers = {num: (lambda x: x**2)(num) for num in tenList if num > 5}\n",
    "    return squaredNumbers\n",
    "\n",
    "square_dict_lambda(tenList)\n"
   ]
  }
 ],
 "metadata": {
  "kernelspec": {
   "display_name": "Python 3",
   "language": "python",
   "name": "python3"
  },
  "language_info": {
   "codemirror_mode": {
    "name": "ipython",
    "version": 3
   },
   "file_extension": ".py",
   "mimetype": "text/x-python",
   "name": "python",
   "nbconvert_exporter": "python",
   "pygments_lexer": "ipython3",
   "version": "3.11.3"
  }
 },
 "nbformat": 4,
 "nbformat_minor": 2
}
