{
 "cells": [
  {
   "cell_type": "markdown",
   "metadata": {
    "id": "kZXiW0-J0-2x"
   },
   "source": [
    "# Python_Groups_Hands-on\n"
   ]
  },
  {
   "cell_type": "markdown",
   "metadata": {
    "id": "I05A6_S80-2y"
   },
   "source": [
    "## Project: Library Management System\n",
    "### Description:\n",
    "- Develop a basic Library Management System (LMS) that allows users to manage book records, including adding, updating, deleting, and displaying book information. The system should also provide basic statistical analysis.\n",
    "\n",
    "### System requirements:\n",
    "\n",
    "#### Data Structure Design:\n",
    "\n",
    "  - Define data structures using lists, tuples, dictionaries, and sets to store book information (e.g., book ID, title, author, year, genres).\n",
    "\n",
    "#### Basic Operations:\n",
    "\n",
    "- Implement functions to add, update, delete, and display book records.\n",
    "- Ensure proper type conversion and validation of inputs.\n",
    "\n",
    "#### Statistical Analysis:\n",
    "\n",
    "- Write functions to calculate and display the total number of books, the average publication year, and the most common genre.\n",
    "- Use list comprehensions and built-in functions (sort, len, zip, range) for calculations.\n",
    "\n",
    "#### Advanced Features:\n",
    "\n",
    "- Implement search functionality to find books by title or author using lambda functions.\n",
    "- Provide sorting options for book records based on different criteria (e.g., title, year).\n",
    "\n",
    "\n",
    "#### Exception Handling:\n",
    "\n",
    "- Handle potential errors (e.g., invalid input) using try-except blocks."
   ]
  },
  {
   "cell_type": "markdown",
   "metadata": {
    "id": "rXuH9y0_D76o"
   },
   "source": [
    "#### Q1: Using the following table, create a function to add these books to your library:\n",
    "\n",
    "\n",
    "\n",
    "| Book ID | Title                            | Author               | Year | Genres                              |\n",
    "|---------|----------------------------------|----------------------|------|-------------------------------------|\n",
    "| 1       | Harry Potter and the Sorcerer's Stone | J.K. Rowling         | 1997 | Fantasy, Young Adult                |\n",
    "| 2       | To Kill a Mockingbird             | Harper Lee           | 1960 | Fiction, Classics                   |\n",
    "| 3       | The Great Gatsby                  | F. Scott Fitzgerald  | 1925 | Fiction, Classics                   |\n",
    "| 4       | 1984                              | George Orwell        | 1949 | Fiction, Dystopian                  |\n",
    "| 5       | The Catcher in the Rye            | J.D. Salinger        | 1951 | Fiction, Classics                   |\n",
    "| 6       | Pride and Prejudice               | Jane Austen          | 1813 | Fiction, Romance, Classics          |\n",
    "| 7       | The Hobbit                        | J.R.R. Tolkien       | 1937 | Fantasy, Adventure                  |\n",
    "| 8       | The Hunger Games                  | Suzanne Collins      | 2008 | Science Fiction, Dystopian, Young Adult |\n",
    "| 9       | The Da Vinci Code                 | Dan Brown            | 2003 | Mystery, Thriller                   |\n",
    "| 10      | The Chronicles of Narnia          | C.S. Lewis           | 1950 | Fantasy, Children's Literature      |\n",
    "| 11      | Gone with the Wind                | Margaret Mitchell    | 1936 | Historical Fiction, Romance         |\n",
    "| 12      | Sapiens: A Brief History of Humankind | Yuval Noah Harari   | 2011 | Nonfiction, History, Science        |\n",
    "| 13      | The Road                          | Cormac McCarthy      | 2006 | Fiction, Post-Apocalyptic           |\n",
    "| 14      | The Girl with the Dragon Tattoo   | Stieg Larsson        | 2005 | Mystery, Thriller                   |\n",
    "| 15      | The Alchemist                     | Paulo Coelho         | 1988 | Fiction, Inspirational              |\n"
   ]
  },
  {
   "cell_type": "markdown",
   "metadata": {},
   "source": [
    "### Expected output:\n",
    "~~~~~~~~~~~~~~~~~~~~~~~~~\n",
    "{1: {'title': 'title',\n",
    "  'author': 'author',\n",
    "  'year': 2025,\n",
    "  'genres': ['genre 1', 'genre 2', 'genre 3']}}\n",
    "  ~~~~~~~~~~~~~~~~~~~~~~~~~"
   ]
  },
  {
   "cell_type": "code",
   "execution_count": null,
   "metadata": {
    "id": "BzV_B_g20-2z"
   },
   "outputs": [],
   "source": [
    "# write your code here\n",
    "table={}\n",
    "\n",
    "def add (id, title ,author,year,genres):\n",
    "        if id not in table:\n",
    "            table[id]={\"title\":title,\"author\":author,\"year\":year,\"genres\":genres}\n",
    "        else:\n",
    "            print(f\"Book with ID {id} already exists.\")\n",
    "\n",
    "\n",
    "add(1, \"Harry Potter and the Sorcerer's Stone\", \"J.K. Rowling\", 1997, [\"Fantasy\", \"Young Adult\"])\n",
    "add(2, \"To Kill a Mockingbird\", \"Harper Lee\", 1960, [\"Fiction\", \"Classics\"])\n",
    "add(3, \"The Great Gatsby\", \"F. Scott Fitzgerald\", 1925, [\"Fiction\", \"Classics\"])\n",
    "add(4, \"1984\", \"George Orwell\", 1949, [\"Fiction\", \"Dystopian\"])\n",
    "add(5, \"The Catcher in the Rye\", \"J.D. Salinger\", 1951, [\"Fiction\", \"Classics\"])\n",
    "add(6, \"Pride and Prejudice\", \"Jane Austen\", 1813, [\"Fiction\", \"Romance\", \"Classics\"])\n",
    "add(7, \"The Hobbit\", \"J.R.R. Tolkien\", 1937, [\"Fantasy\", \"Adventure\"])\n",
    "add(8, \"The Hunger Games\", \"Suzanne Collins\", 2008, [\"Science Fiction\", \"Dystopian\", \"Young Adult\"])\n",
    "add(9, \"The Da Vinci Code\", \"Dan Brown\", 2003, [\"Mystery\", \"Thriller\"])\n",
    "add(10, \"The Chronicles of Narnia\", \"C.S. Lewis\", 1950, [\"Fantasy\", \"Children's Literature\"])\n",
    "add(11, \"Gone with the Wind\", \"Margaret Mitchell\", 1936, [\"Historical Fiction\", \"Romance\"])\n",
    "add(12, \"Sapiens: A Brief History of Humankind\", \"Yuval Noah Harari\", 2011, [\"Nonfiction\", \"History\", \"Science\"])\n",
    "add(13, \"The Road\", \"Cormac McCarthy\", 2006, [\"Fiction\", \"Post-Apocalyptic\"])\n",
    "add(14, \"The Girl with the Dragon Tattoo\", \"Stieg Larsson\", 2005, [\"Mystery\", \"Thriller\"])\n",
    "add(15, \"The Alchemist\", \"Paulo Coelho\", 1988, [\"Fiction\", \"Inspirational\"])\n",
    "\n",
    "table"
   ]
  },
  {
   "cell_type": "markdown",
   "metadata": {
    "id": "kR5bvgOsF3oJ"
   },
   "source": [
    "#### Q2: Create a function that updates books exsisted in your library and test it.\n",
    "- **Note**: If the user entered wrong book ID it should print \"Book with ID 'num' does not exist."
   ]
  },
  {
   "cell_type": "markdown",
   "metadata": {},
   "source": [
    "### Expected output:\n",
    "~~~~~~~~~~~~~~~~~~~~~~~~~\n",
    "Book with ID 16 does not exist.\n",
    "\n",
    "Book with ID 1 info updated.\n",
    "~~~~~~~~~~~~~~~~~~~~~~~~~"
   ]
  },
  {
   "cell_type": "code",
   "execution_count": null,
   "metadata": {
    "id": "U60cFkbUUYmj"
   },
   "outputs": [],
   "source": [
    "def update_book(id, books, title=None, author=None, year=None, genres=None):\n",
    "\n",
    "    if id in books:\n",
    "        if title:\n",
    "            books[id] ['title' ] = title\n",
    "        if author:\n",
    "            books [id ] ['author' ] = author\n",
    "        if year:\n",
    "            books [id ] [ 'year' ] = year\n",
    "        if genres:\n",
    "            books [id] ['genres' ] = genres\n",
    "            print(f\"Book with ID {id} info updated.\")\n",
    "    else:\n",
    "        print(f\"Book with ID {id} does not exist.\")\n",
    "    return books\n",
    "\n",
    "table = update_book(16, table, title=\"The Silmarillion\", author=\"J.R.R. Tolkien\")\n",
    "\n",
    "table = update_book(17, table, title=\"Harry Potter and the Philosopher's Stone\", year=1998)\n",
    "\n",
    "print(\"\\nUpdated Library:\")\n",
    "for book_id, details in table.items():\n",
    "    print(f\"ID: {book_id}, Title: {details['title']}, Year: {details['year']}\")"
   ]
  },
  {
   "cell_type": "markdown",
   "metadata": {
    "id": "ME3j_m-eLhyH"
   },
   "source": [
    "#### Q3: Create a function to delete books from your library and test it."
   ]
  },
  {
   "cell_type": "markdown",
   "metadata": {},
   "source": [
    "### Expected output:\n",
    "~~~~~~~~~~~~~~~~~~~~~~~~~\n",
    "Book with ID 16 does not exist.\n",
    "\n",
    "Book with ID 1 Deleted.\n",
    "~~~~~~~~~~~~~~~~~~~~~~~~~\n"
   ]
  },
  {
   "cell_type": "code",
   "execution_count": null,
   "metadata": {
    "id": "JlGIx-gJUadK"
   },
   "outputs": [],
   "source": [
    "def delete_book(book_id):\n",
    "    if book_id not in table:\n",
    "        print(f\"Book with ID {book_id} does not exist. \\n\")\n",
    "        return\n",
    "\n",
    "    del table[book_id]\n",
    "    print(f\"Book with ID {book_id} Deleted.\\n\")\n",
    "\n",
    "delete_book(16)\n",
    "delete_book(1)"
   ]
  },
  {
   "cell_type": "markdown",
   "metadata": {
    "id": "MIamnChwNgFr"
   },
   "source": [
    "#### Q4: Create a function that displays books information from your library and test it."
   ]
  },
  {
   "cell_type": "markdown",
   "metadata": {},
   "source": [
    "### Expected output:\n",
    "~~~~~~~~~~~~~~~~~~~~~~~~~\n",
    "ID: 1, Title: title, Author: author, Year: 2025, Genres: ['genre 1', 'genre 2', 'genre 3']\n",
    "\n",
    "ID: 2, Title: title2, Author: author2, Year: 2010, Genres: ['genre 12', 'genre 22', 'genre 32']\n",
    "~~~~~~~~~~~~~~~~~~~~~~~~~"
   ]
  },
  {
   "cell_type": "code",
   "execution_count": null,
   "metadata": {
    "id": "xFNIK3YvUbz5"
   },
   "outputs": [],
   "source": [
    "def display_books():\n",
    "    for id, details in table.items():\n",
    "        print(f\"ID: {id}, Title: {details['title']}, Author: {details['author']}, Year: {details['year']}, Genres: {details['genres']}\\n\")\n",
    "\n",
    "\n",
    "display_books()"
   ]
  },
  {
   "cell_type": "markdown",
   "metadata": {
    "id": "OvfdKdBqNt22"
   },
   "source": [
    "#### Q5: Create functions to do the following: calculates and display the total number of books, the average publication year, and the most common genre. and test it."
   ]
  },
  {
   "cell_type": "markdown",
   "metadata": {},
   "source": [
    "### Expected output:\n",
    "~~~~~~~~~~~~~~~~~~~~~~~~~\n",
    "2\n",
    "\n",
    "2017.5\n",
    "\n",
    "'genre 2'\n",
    "~~~~~~~~~~~~~~~~~~~~~~~~~"
   ]
  },
  {
   "cell_type": "code",
   "execution_count": null,
   "metadata": {
    "id": "mWg5eHIWUcsU"
   },
   "outputs": [],
   "source": [
    "def stats(table):\n",
    "    total_books = len(table)\n",
    "\n",
    "    years = []\n",
    "    for book in table:\n",
    "        years.append(table[book] ['year'])\n",
    "\n",
    "    avg = 0\n",
    "    for i in years:\n",
    "        avg += i\n",
    "    avg /= len(years)\n",
    "    \n",
    "    genres = []\n",
    "    for book in table:\n",
    "        genres.append(table[book] ['genres'] )\n",
    "    flattened_list = [item for sublist in genres for item in sublist]\n",
    "    most_genre = max(set(flattened_list), key=flattened_list.count)\n",
    "\n",
    "    print(total_books)\n",
    "    print(avg)\n",
    "    print(most_genre)\n",
    "stats(table)"
   ]
  },
  {
   "cell_type": "markdown",
   "metadata": {
    "id": "IuVLtf7dQaUW"
   },
   "source": [
    "#### Q6: Create 2 functions to search for books by the title and the author from your library and test it."
   ]
  },
  {
   "cell_type": "markdown",
   "metadata": {},
   "source": [
    "### Expected output:\n",
    "\n",
    "searched for title2 and author2:\n",
    "\n",
    "~~~~~~~~~~~~~~~~~~~~~~~~~\n",
    "{2: {'title': 'title2', 'author': 'author2', 'year': 2010, 'genres': ['genre 12', 'genre 22', 'genre 32']},\n",
    "\n",
    "\n",
    "{2: {'title': 'title2', 'author': 'author2', 'year': 2010, 'genres': ['genre 12', 'genre 22', 'genre 32']},\n",
    "~~~~~~~~~~~~~~~~~~~~~~~~~\n"
   ]
  },
  {
   "cell_type": "code",
   "execution_count": null,
   "metadata": {
    "id": "7LnwRJLCUe3p"
   },
   "outputs": [],
   "source": [
    "def search_by_title(title):\n",
    "    result = {id: details for id, details in table.items() if details[\"title\"].lower() == title.lower()}\n",
    "    if result:\n",
    "        print(f\"Searched for title '{title}':\\n{result}\\n\")\n",
    "    else:\n",
    "        print(f\"No books found with title '{title}'\\n\")\n",
    "\n",
    "def search_by_author(author):\n",
    "    result = {id: details for id, details in table.items() if details[\"author\"].lower() == author.lower()}\n",
    "    if result:\n",
    "        print(f\"Searched for author '{author}':\\n{result}\\n\")\n",
    "    else:\n",
    "        print(f\"No books found by author '{author}'\\n\")\n",
    "\n",
    "search_by_title(\"To Kill a Mockingbird\")\n",
    "search_by_author(\"Author2\")\n"
   ]
  },
  {
   "cell_type": "markdown",
   "metadata": {
    "id": "fAu2ozKBQzJu"
   },
   "source": [
    "#### Q7: Create 2 functions to sort the books by the title and the year from your library and test it."
   ]
  },
  {
   "cell_type": "markdown",
   "metadata": {},
   "source": [
    "**Hint**: Use lambda function\n",
    "\n",
    "\n"
   ]
  },
  {
   "cell_type": "code",
   "execution_count": null,
   "metadata": {
    "id": "X4PyuHTMUgHl"
   },
   "outputs": [],
   "source": [
    "def sortYear():\n",
    "    sorted_books = dict(sorted(table.items(), key=lambda x: x[1]['year'], reverse= True))\n",
    "    return sorted_books\n",
    "def sortTitle():\n",
    "    sorted_books = dict(sorted(table.items(), key=lambda x: x[1]['title'], reverse= True))\n",
    "    return sorted_books\n",
    "\n",
    "print(\"Books sorted by year (oldest to newest):\")\n",
    "print(sortYear()) \n",
    "print(\"Books sorted by Title:\")\n",
    "print(sortTitle()) "
   ]
  },
  {
   "cell_type": "markdown",
   "metadata": {
    "id": "KiaFO8rdiv4u"
   },
   "source": [
    "#### Q8: Create a function to bulk update genres(Replace a specific genre with a new genre) of books using list comprehension. and test it."
   ]
  },
  {
   "cell_type": "markdown",
   "metadata": {},
   "source": [
    "### Expected output:\n",
    "\n",
    "```python\n",
    "bulk_update_genres(\"genre 22\", \"Drama\")\n",
    "```\n",
    "~~~~~~~~~~~\n",
    "- Before:\n",
    "{2: {'title': 'title2', 'author': 'author2', 'year': 2010, 'genres': ['genre 12', 'genre 22', 'genre 32']},\n",
    "- After:\n",
    "{2: {'title': 'title2', 'author': 'author2', 'year': 2010, 'genres': ['genre 12', 'Drama', 'genre 32']},\n",
    "\n",
    "\n"
   ]
  },
  {
   "cell_type": "code",
   "execution_count": null,
   "metadata": {
    "id": "AbvXyE96UhVt"
   },
   "outputs": [],
   "source": [
    "def bulk_update_genres(old_genre, new_genre):\n",
    "    for book_id, book_info in table.items():\n",
    "        book_info['genres'] = [new_genre if genre == old_genre else genre for genre in book_info['genres']]\n",
    "\n",
    "print(\"Before:\")\n",
    "print(table)\n",
    "\n",
    "bulk_update_genres(\"genre 22\", \"Drama\")\n",
    "\n",
    "print(\"\\nAfter:\")\n",
    "print(table)"
   ]
  },
  {
   "cell_type": "markdown",
   "metadata": {
    "id": "ZWkmOUNgi6V_"
   },
   "source": [
    "#### Q9: Implement a function to generate a report summarizing the library's statistics, including the total number of books, the number of books by each author, the number of books in each genre, and the oldest and newest books. and test it."
   ]
  },
  {
   "cell_type": "code",
   "execution_count": null,
   "metadata": {
    "id": "Okjlb9pTUloe"
   },
   "outputs": [],
   "source": [
    "def stats(table):\n",
    "    \n",
    "    total_books = len(table)\n",
    "    print(f\"Total number of books: {total_books}\")\n",
    "    \n",
    "    author_count = {}\n",
    "    for details in table:\n",
    "        author = table[details]['author']\n",
    "        author_count[author] = author_count.get(author, 0) + 1\n",
    "    \n",
    "    print(\"Books by each author:\")\n",
    "    for author, count in author_count.items():\n",
    "        print(f\"{author}: {count} books\")\n",
    "    \n",
    "\n",
    "    genre_count = {}\n",
    "    for details in table:\n",
    "        genres = table[details]['genres']\n",
    "        for genre in genres:\n",
    "            genre_count[genre] = genre_count.get(genre, 0) + 1\n",
    "    \n",
    "    print(\"Books by genre:\")\n",
    "    for genre, count in genre_count.items():\n",
    "        print(f\"{genre}: {count} books\")\n",
    "    \n",
    "\n",
    "    oldest_book = min(table.items(), key=lambda x: x[1]['year'])\n",
    "    newest_book = max(table.items(), key=lambda x: x[1]['year'])\n",
    "    \n",
    "    print(f\"Oldest book: {oldest_book[1]['title']} ({oldest_book[1]['year']})\")\n",
    "    print(f\"Newest book: {newest_book[1]['title']} ({newest_book[1]['year']})\")\n",
    "\n",
    "stats(table)\n"
   ]
  }
 ],
 "metadata": {
  "colab": {
   "provenance": []
  },
  "kernelspec": {
   "display_name": "Python 3",
   "language": "python",
   "name": "python3"
  },
  "language_info": {
   "codemirror_mode": {
    "name": "ipython",
    "version": 3
   },
   "file_extension": ".py",
   "mimetype": "text/x-python",
   "name": "python",
   "nbconvert_exporter": "python",
   "pygments_lexer": "ipython3",
   "version": "3.9.12"
  }
 },
 "nbformat": 4,
 "nbformat_minor": 0
}
